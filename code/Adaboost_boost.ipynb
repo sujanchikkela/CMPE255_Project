{
 "cells": [
  {
   "cell_type": "code",
   "execution_count": 8,
   "id": "0699a90f-30e8-4343-8b43-83481100c5ef",
   "metadata": {},
   "outputs": [],
   "source": [
    "from sklearn.ensemble import AdaBoostRegressor\n",
    "from sklearn.metrics import mean_absolute_error\n",
    "from sklearn.model_selection import train_test_split\n",
    "import pandas as pd\n",
    "from sklearn.metrics import confusion_matrix,classification_report\n",
    "import matplotlib.pyplot as plt\n",
    "import xgboost\n",
    "import numpy as np\n",
    "from sklearn.metrics import mean_squared_error\n",
    "from sklearn.metrics import mean_squared_log_error\n",
    "from sklearn.metrics import mean_absolute_error\n",
    "from sklearn.preprocessing import StandardScaler\n",
    "from sklearn.decomposition import PCA"
   ]
  },
  {
   "cell_type": "code",
   "execution_count": 9,
   "id": "1c1d4b7c-8340-40f9-b17e-418fa4923293",
   "metadata": {},
   "outputs": [
    {
     "data": {
      "text/html": [
       "<div>\n",
       "<style scoped>\n",
       "    .dataframe tbody tr th:only-of-type {\n",
       "        vertical-align: middle;\n",
       "    }\n",
       "\n",
       "    .dataframe tbody tr th {\n",
       "        vertical-align: top;\n",
       "    }\n",
       "\n",
       "    .dataframe thead th {\n",
       "        text-align: right;\n",
       "    }\n",
       "</style>\n",
       "<table border=\"1\" class=\"dataframe\">\n",
       "  <thead>\n",
       "    <tr style=\"text-align: right;\">\n",
       "      <th></th>\n",
       "      <th>temp_avg</th>\n",
       "      <th>temp_min</th>\n",
       "      <th>temp_max</th>\n",
       "      <th>temp_observ</th>\n",
       "      <th>precip</th>\n",
       "      <th>wind</th>\n",
       "      <th>casual</th>\n",
       "      <th>registered</th>\n",
       "      <th>total_cust</th>\n",
       "      <th>holiday</th>\n",
       "      <th>...</th>\n",
       "      <th>season_fall</th>\n",
       "      <th>dayOfWeek_Friday</th>\n",
       "      <th>dayOfWeek_Monday</th>\n",
       "      <th>dayOfWeek_Saturday</th>\n",
       "      <th>dayOfWeek_Sunday</th>\n",
       "      <th>dayOfWeek_Thursday</th>\n",
       "      <th>dayOfWeek_Tuesday</th>\n",
       "      <th>dayOfWeek_Wednesday</th>\n",
       "      <th>total_cust_log</th>\n",
       "      <th>total_cust_diff</th>\n",
       "    </tr>\n",
       "  </thead>\n",
       "  <tbody>\n",
       "    <tr>\n",
       "      <th>0</th>\n",
       "      <td>5.20</td>\n",
       "      <td>-1.57</td>\n",
       "      <td>11.97</td>\n",
       "      <td>2.77</td>\n",
       "      <td>0.07</td>\n",
       "      <td>2.58</td>\n",
       "      <td>330.0</td>\n",
       "      <td>629.0</td>\n",
       "      <td>959.0</td>\n",
       "      <td>0.0</td>\n",
       "      <td>...</td>\n",
       "      <td>0</td>\n",
       "      <td>0</td>\n",
       "      <td>0</td>\n",
       "      <td>1</td>\n",
       "      <td>0</td>\n",
       "      <td>0</td>\n",
       "      <td>0</td>\n",
       "      <td>0</td>\n",
       "      <td>6.865891</td>\n",
       "      <td>6.865891</td>\n",
       "    </tr>\n",
       "    <tr>\n",
       "      <th>1</th>\n",
       "      <td>7.34</td>\n",
       "      <td>0.88</td>\n",
       "      <td>13.81</td>\n",
       "      <td>7.33</td>\n",
       "      <td>1.04</td>\n",
       "      <td>3.92</td>\n",
       "      <td>130.0</td>\n",
       "      <td>651.0</td>\n",
       "      <td>781.0</td>\n",
       "      <td>0.0</td>\n",
       "      <td>...</td>\n",
       "      <td>0</td>\n",
       "      <td>0</td>\n",
       "      <td>0</td>\n",
       "      <td>0</td>\n",
       "      <td>1</td>\n",
       "      <td>0</td>\n",
       "      <td>0</td>\n",
       "      <td>0</td>\n",
       "      <td>6.660575</td>\n",
       "      <td>-0.205316</td>\n",
       "    </tr>\n",
       "    <tr>\n",
       "      <th>2</th>\n",
       "      <td>2.01</td>\n",
       "      <td>-3.44</td>\n",
       "      <td>7.46</td>\n",
       "      <td>-3.06</td>\n",
       "      <td>1.88</td>\n",
       "      <td>3.62</td>\n",
       "      <td>120.0</td>\n",
       "      <td>1181.0</td>\n",
       "      <td>1301.0</td>\n",
       "      <td>0.0</td>\n",
       "      <td>...</td>\n",
       "      <td>0</td>\n",
       "      <td>0</td>\n",
       "      <td>1</td>\n",
       "      <td>0</td>\n",
       "      <td>0</td>\n",
       "      <td>0</td>\n",
       "      <td>0</td>\n",
       "      <td>0</td>\n",
       "      <td>7.170888</td>\n",
       "      <td>0.510313</td>\n",
       "    </tr>\n",
       "    <tr>\n",
       "      <th>3</th>\n",
       "      <td>-0.66</td>\n",
       "      <td>-5.96</td>\n",
       "      <td>4.64</td>\n",
       "      <td>-3.10</td>\n",
       "      <td>0.00</td>\n",
       "      <td>1.80</td>\n",
       "      <td>107.0</td>\n",
       "      <td>1429.0</td>\n",
       "      <td>1536.0</td>\n",
       "      <td>0.0</td>\n",
       "      <td>...</td>\n",
       "      <td>0</td>\n",
       "      <td>0</td>\n",
       "      <td>0</td>\n",
       "      <td>0</td>\n",
       "      <td>0</td>\n",
       "      <td>0</td>\n",
       "      <td>1</td>\n",
       "      <td>0</td>\n",
       "      <td>7.336937</td>\n",
       "      <td>0.166048</td>\n",
       "    </tr>\n",
       "    <tr>\n",
       "      <th>4</th>\n",
       "      <td>0.91</td>\n",
       "      <td>-4.29</td>\n",
       "      <td>6.11</td>\n",
       "      <td>-1.77</td>\n",
       "      <td>0.00</td>\n",
       "      <td>2.95</td>\n",
       "      <td>82.0</td>\n",
       "      <td>1489.0</td>\n",
       "      <td>1571.0</td>\n",
       "      <td>0.0</td>\n",
       "      <td>...</td>\n",
       "      <td>0</td>\n",
       "      <td>0</td>\n",
       "      <td>0</td>\n",
       "      <td>0</td>\n",
       "      <td>0</td>\n",
       "      <td>0</td>\n",
       "      <td>0</td>\n",
       "      <td>1</td>\n",
       "      <td>7.359468</td>\n",
       "      <td>0.022531</td>\n",
       "    </tr>\n",
       "  </tbody>\n",
       "</table>\n",
       "<p>5 rows × 26 columns</p>\n",
       "</div>"
      ],
      "text/plain": [
       "   temp_avg  temp_min  temp_max  temp_observ  precip  wind  casual  \\\n",
       "0      5.20     -1.57     11.97         2.77    0.07  2.58   330.0   \n",
       "1      7.34      0.88     13.81         7.33    1.04  3.92   130.0   \n",
       "2      2.01     -3.44      7.46        -3.06    1.88  3.62   120.0   \n",
       "3     -0.66     -5.96      4.64        -3.10    0.00  1.80   107.0   \n",
       "4      0.91     -4.29      6.11        -1.77    0.00  2.95    82.0   \n",
       "\n",
       "   registered  total_cust  holiday  ...  season_fall  dayOfWeek_Friday  \\\n",
       "0       629.0       959.0      0.0  ...            0                 0   \n",
       "1       651.0       781.0      0.0  ...            0                 0   \n",
       "2      1181.0      1301.0      0.0  ...            0                 0   \n",
       "3      1429.0      1536.0      0.0  ...            0                 0   \n",
       "4      1489.0      1571.0      0.0  ...            0                 0   \n",
       "\n",
       "   dayOfWeek_Monday  dayOfWeek_Saturday  dayOfWeek_Sunday  dayOfWeek_Thursday  \\\n",
       "0                 0                   1                 0                   0   \n",
       "1                 0                   0                 1                   0   \n",
       "2                 1                   0                 0                   0   \n",
       "3                 0                   0                 0                   0   \n",
       "4                 0                   0                 0                   0   \n",
       "\n",
       "   dayOfWeek_Tuesday  dayOfWeek_Wednesday  total_cust_log  total_cust_diff  \n",
       "0                  0                    0        6.865891         6.865891  \n",
       "1                  0                    0        6.660575        -0.205316  \n",
       "2                  0                    0        7.170888         0.510313  \n",
       "3                  1                    0        7.336937         0.166048  \n",
       "4                  0                    1        7.359468         0.022531  \n",
       "\n",
       "[5 rows x 26 columns]"
      ]
     },
     "execution_count": 9,
     "metadata": {},
     "output_type": "execute_result"
    }
   ],
   "source": [
    "df_v3=pd.read_csv(\"dataset_ohe.csv\")\n",
    "df_v3.head()"
   ]
  },
  {
   "cell_type": "code",
   "execution_count": 10,
   "id": "1d95cc12-8d38-4ed7-85a6-e09f8f8e0cc9",
   "metadata": {},
   "outputs": [],
   "source": [
    "X=df_v3.iloc[:,:]\n",
    "X.drop(columns='total_cust')\n",
    "y=pd.DataFrame(data=df_v3[\"total_cust\"])"
   ]
  },
  {
   "cell_type": "code",
   "execution_count": 11,
   "id": "4268635a-4a5f-459b-8369-c358ebea98c0",
   "metadata": {},
   "outputs": [],
   "source": [
    "#X=X.drop(columns=['total_cust','datetime','date','dayOfWeek','month'])"
   ]
  },
  {
   "cell_type": "code",
   "execution_count": 12,
   "id": "5aa7b8b1-953b-49c2-80c5-c967660d9f6d",
   "metadata": {},
   "outputs": [
    {
     "data": {
      "text/plain": [
       "array([2011, 2012, 2013, 2014, 2015, 2016, 2017, 2018], dtype=int64)"
      ]
     },
     "execution_count": 12,
     "metadata": {},
     "output_type": "execute_result"
    }
   ],
   "source": [
    "X['year'].unique()"
   ]
  },
  {
   "cell_type": "code",
   "execution_count": null,
   "id": "d1a524f9-3805-4ac4-ba6e-ebda59c7e420",
   "metadata": {},
   "outputs": [],
   "source": []
  },
  {
   "cell_type": "code",
   "execution_count": 13,
   "id": "6fca8652-71b7-4b69-a6ae-f4566efae93f",
   "metadata": {},
   "outputs": [],
   "source": [
    "X_train, X_test, y_train, y_test = train_test_split(X,y, test_size = 0.3, random_state = 100)"
   ]
  },
  {
   "cell_type": "code",
   "execution_count": 14,
   "id": "a03c59c4-72b6-4819-8ba1-9eeab82d5f53",
   "metadata": {},
   "outputs": [],
   "source": [
    "x_array=X_train.values"
   ]
  },
  {
   "cell_type": "code",
   "execution_count": null,
   "id": "764f5d48-3376-4780-861b-85dc223fcf3e",
   "metadata": {},
   "outputs": [],
   "source": []
  },
  {
   "cell_type": "code",
   "execution_count": 15,
   "id": "1fa8f674-2022-4914-8514-6f9fbfc18a0c",
   "metadata": {},
   "outputs": [
    {
     "name": "stderr",
     "output_type": "stream",
     "text": [
      "C:\\Users\\Checkout\\anaconda3\\lib\\site-packages\\sklearn\\utils\\validation.py:63: DataConversionWarning: A column-vector y was passed when a 1d array was expected. Please change the shape of y to (n_samples, ), for example using ravel().\n",
      "  return f(*args, **kwargs)\n"
     ]
    },
    {
     "data": {
      "text/plain": [
       "AdaBoostRegressor(learning_rate=0.5, n_estimators=200, random_state=100)"
      ]
     },
     "execution_count": 15,
     "metadata": {},
     "output_type": "execute_result"
    }
   ],
   "source": [
    "ada_clf = AdaBoostRegressor(base_estimator=DecisionTreeRegressor(),n_estimators = 200, learning_rate = 0.5, random_state = 100)\n",
    "ada_clf.fit(X_train, y_train)"
   ]
  },
  {
   "cell_type": "code",
   "execution_count": 16,
   "id": "6ce7fe7e-97b3-4eb3-b1c8-512110ac2722",
   "metadata": {},
   "outputs": [],
   "source": [
    "y_train_pred = ada_clf.predict(X_train)"
   ]
  },
  {
   "cell_type": "code",
   "execution_count": null,
   "id": "a1a16c45-06db-4422-9bef-3ce8e9abd555",
   "metadata": {},
   "outputs": [],
   "source": []
  },
  {
   "cell_type": "code",
   "execution_count": 17,
   "id": "629f505f-c72b-4e44-bcd6-9c5bab8500f8",
   "metadata": {},
   "outputs": [
    {
     "name": "stdout",
     "output_type": "stream",
     "text": [
      "<class 'pandas.core.frame.DataFrame'>\n",
      "Int64Index: 2045 entries, 2369 to 1544\n",
      "Data columns (total 1 columns):\n",
      " #   Column      Non-Null Count  Dtype  \n",
      "---  ------      --------------  -----  \n",
      " 0   total_cust  2045 non-null   float64\n",
      "dtypes: float64(1)\n",
      "memory usage: 32.0 KB\n"
     ]
    },
    {
     "data": {
      "text/html": [
       "<div>\n",
       "<style scoped>\n",
       "    .dataframe tbody tr th:only-of-type {\n",
       "        vertical-align: middle;\n",
       "    }\n",
       "\n",
       "    .dataframe tbody tr th {\n",
       "        vertical-align: top;\n",
       "    }\n",
       "\n",
       "    .dataframe thead th {\n",
       "        text-align: right;\n",
       "    }\n",
       "</style>\n",
       "<table border=\"1\" class=\"dataframe\">\n",
       "  <thead>\n",
       "    <tr style=\"text-align: right;\">\n",
       "      <th></th>\n",
       "      <th>total_cust</th>\n",
       "    </tr>\n",
       "  </thead>\n",
       "  <tbody>\n",
       "    <tr>\n",
       "      <th>2369</th>\n",
       "      <td>15015.0</td>\n",
       "    </tr>\n",
       "    <tr>\n",
       "      <th>746</th>\n",
       "      <td>3477.0</td>\n",
       "    </tr>\n",
       "    <tr>\n",
       "      <th>2175</th>\n",
       "      <td>4556.0</td>\n",
       "    </tr>\n",
       "    <tr>\n",
       "      <th>348</th>\n",
       "      <td>3670.0</td>\n",
       "    </tr>\n",
       "    <tr>\n",
       "      <th>2851</th>\n",
       "      <td>10201.0</td>\n",
       "    </tr>\n",
       "    <tr>\n",
       "      <th>...</th>\n",
       "      <td>...</td>\n",
       "    </tr>\n",
       "    <tr>\n",
       "      <th>1930</th>\n",
       "      <td>10523.0</td>\n",
       "    </tr>\n",
       "    <tr>\n",
       "      <th>79</th>\n",
       "      <td>2058.0</td>\n",
       "    </tr>\n",
       "    <tr>\n",
       "      <th>1859</th>\n",
       "      <td>4243.0</td>\n",
       "    </tr>\n",
       "    <tr>\n",
       "      <th>2840</th>\n",
       "      <td>6972.0</td>\n",
       "    </tr>\n",
       "    <tr>\n",
       "      <th>1544</th>\n",
       "      <td>7423.0</td>\n",
       "    </tr>\n",
       "  </tbody>\n",
       "</table>\n",
       "<p>2045 rows × 1 columns</p>\n",
       "</div>"
      ],
      "text/plain": [
       "      total_cust\n",
       "2369     15015.0\n",
       "746       3477.0\n",
       "2175      4556.0\n",
       "348       3670.0\n",
       "2851     10201.0\n",
       "...          ...\n",
       "1930     10523.0\n",
       "79        2058.0\n",
       "1859      4243.0\n",
       "2840      6972.0\n",
       "1544      7423.0\n",
       "\n",
       "[2045 rows x 1 columns]"
      ]
     },
     "execution_count": 17,
     "metadata": {},
     "output_type": "execute_result"
    }
   ],
   "source": [
    "y_train.info()\n",
    "y_train"
   ]
  },
  {
   "cell_type": "code",
   "execution_count": 19,
   "id": "d4be109a-485d-4a77-b71a-23d57da8d667",
   "metadata": {},
   "outputs": [
    {
     "data": {
      "text/plain": [
       "Index(['temp_avg', 'temp_min', 'temp_max', 'temp_observ', 'precip', 'wind',\n",
       "       'casual', 'registered', 'total_cust', 'holiday', 'rain', 'fog', 'ice',\n",
       "       'year', 'season_spring', 'season_summer', 'season_fall',\n",
       "       'dayOfWeek_Friday', 'dayOfWeek_Monday', 'dayOfWeek_Saturday',\n",
       "       'dayOfWeek_Sunday', 'dayOfWeek_Thursday', 'dayOfWeek_Tuesday',\n",
       "       'dayOfWeek_Wednesday', 'total_cust_log', 'total_cust_diff'],\n",
       "      dtype='object')"
      ]
     },
     "execution_count": 19,
     "metadata": {},
     "output_type": "execute_result"
    }
   ],
   "source": [
    "df_v3.columns"
   ]
  },
  {
   "cell_type": "code",
   "execution_count": 20,
   "id": "e3a9ea36-c401-4af1-b7ee-7862f6c6e33f",
   "metadata": {},
   "outputs": [],
   "source": [
    "rmse = np.sqrt(mean_squared_error(y_train, y_train_pred))\n",
    "rmsle = np.sqrt(mean_squared_log_error(y_train, y_train_pred))\n",
    "mae = mean_absolute_error(y_train, y_train_pred)\n",
    "    \n",
    "list_scores = []\n",
    "list_scores.extend([rmse, rmsle, mae])"
   ]
  },
  {
   "cell_type": "code",
   "execution_count": 21,
   "id": "ad755d85-6aee-4320-9d57-857e09ccdfbc",
   "metadata": {},
   "outputs": [
    {
     "data": {
      "text/plain": [
       "[232.3936268069235, 0.1319188322396236, 183.0369851326245]"
      ]
     },
     "execution_count": 21,
     "metadata": {},
     "output_type": "execute_result"
    }
   ],
   "source": [
    "list_scores"
   ]
  },
  {
   "cell_type": "markdown",
   "id": "cf453daf-ea9d-42e8-9a03-522bf2293caf",
   "metadata": {},
   "source": []
  }
 ],
 "metadata": {
  "kernelspec": {
   "display_name": "Python 3 (ipykernel)",
   "language": "python",
   "name": "python3"
  },
  "language_info": {
   "codemirror_mode": {
    "name": "ipython",
    "version": 3
   },
   "file_extension": ".py",
   "mimetype": "text/x-python",
   "name": "python",
   "nbconvert_exporter": "python",
   "pygments_lexer": "ipython3",
   "version": "3.9.7"
  }
 },
 "nbformat": 4,
 "nbformat_minor": 5
}
